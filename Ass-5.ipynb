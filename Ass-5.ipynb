{
 "cells": [
  {
   "cell_type": "code",
   "execution_count": null,
   "id": "0301646b",
   "metadata": {},
   "outputs": [],
   "source": [
    "import numpy as np\n",
    "import pandas as pd\n",
    "import tensorflow as tf #type:ignore\n",
    "import re\n",
    "import matplotlib.pyplot as plt\n",
    "from tensorflow.keras.preprocessing.text import Tokenizer #type:ignore\n",
    "from tensorflow.keras.preprocessing.sequence import pad_sequences #type:ignore\n",
    "from tensorflow.keras.models import Sequential #type:ignore\n",
    "from tensorflow.keras.layers import Embedding, SimpleRNN, Dense #type:ignore\n",
    "from sklearn.model_selection import train_test_split #type:ignore\n",
    "from sklearn.preprocessing import LabelEncoder #type:ignore\n",
    "from tensorflow.keras.utils import to_categorical #type:ignore\n",
    "\n",
    "# Load dataset\n",
    "df = pd.read_csv(\"sentiment_analysis_1.csv\")\n",
    "\n",
    "# Clean text\n",
    "def clean_text(text):\n",
    "    return re.sub(r'[^a-zA-Z\\s]', '', text.lower()).strip()\n",
    "\n",
    "df[\"cleaned_text\"] = df[\"text\"].apply(clean_text)\n",
    "\n",
    "# Tokenization & Padding\n",
    "tokenizer = Tokenizer(num_words=10000, oov_token=\"<OOV>\")\n",
    "tokenizer.fit_on_texts(df[\"cleaned_text\"])\n",
    "X = pad_sequences(tokenizer.texts_to_sequences(df[\"cleaned_text\"]), maxlen=200)\n",
    "\n",
    "# Encode Labels\n",
    "df[\"encoded_label\"] = LabelEncoder().fit_transform(df[\"label\"])\n",
    "y = to_categorical(df[\"encoded_label\"], num_classes=3)\n",
    "\n",
    "# Split Data\n",
    "X_train, X_test, y_train, y_test = train_test_split(X, y, test_size=0.2, random_state=42)\n",
    "\n",
    "# Build & Train Model\n",
    "model = Sequential([\n",
    "    Embedding(10000, 128, input_length=200),\n",
    "    SimpleRNN(64),\n",
    "    Dense(64, activation='relu'),\n",
    "    Dense(3, activation='softmax')\n",
    "])\n",
    "model.compile(loss=\"categorical_crossentropy\", optimizer=\"adam\", metrics=[\"accuracy\"])\n",
    "history = model.fit(X_train, y_train, epochs=5, batch_size=10, validation_data=(X_test, y_test))\n",
    "\n",
    "# Plot Accuracy\n",
    "plt.plot(history.history['accuracy'], label='Train')\n",
    "plt.plot(history.history['val_accuracy'], label='Validation')\n",
    "plt.legend()\n",
    "plt.show()\n",
    "\n",
    "# Encode Labels (store the fitted label_encoder instance)\n",
    "label_encoder = LabelEncoder()\n",
    "df[\"encoded_label\"] = label_encoder.fit_transform(df[\"label\"])\n",
    "y = to_categorical(df[\"encoded_label\"], num_classes=3)\n",
    "\n",
    "# Sentiment Prediction (use the already fitted label_encoder)\n",
    "def predict_sentiment(text):\n",
    "    seq = pad_sequences(tokenizer.texts_to_sequences([clean_text(text)]), maxlen=200)\n",
    "    prediction = model.predict(seq)[0]\n",
    "    return label_encoder.inverse_transform([np.argmax(prediction)])[0]  # Use the fitted label_encoder\n",
    "\n",
    "print(predict_sentiment(\"The product was amazing! I loved it.\"))\n",
    "print(predict_sentiment(\"It was okay, nothing special.\"))\n",
    "print(predict_sentiment(\"Worst Movie I have ever watched.\"))"
   ]
  },
  {
   "cell_type": "code",
   "execution_count": 15,
   "id": "26d858ea",
   "metadata": {},
   "outputs": [],
   "source": [
    "import numpy as np \n",
    "import pandas as pd\n",
    "import matplotlib.pyplot as plt \n",
    "\n",
    "import re \n",
    "\n",
    "from tensorflow.keras.preprocessing.text import Tokenizer #type:ignore\n",
    "from tensorflow.keras.preprocessing.sequence import pad_sequences #type:ignore\n",
    "from tensorflow.keras.models import Sequential #type:ignore\n",
    "from tensorflow.keras.layers import Embedding , SimpleRNN , Dense #type:ignore\n",
    "from tensorflow.keras.utils import to_categorical #type:ignore\n",
    "\n",
    "from sklearn.model_selection import train_test_split\n",
    "from sklearn.preprocessing import LabelEncoder"
   ]
  },
  {
   "cell_type": "code",
   "execution_count": 16,
   "id": "b5f72e10",
   "metadata": {},
   "outputs": [],
   "source": [
    "df = pd.read_csv(\"sentiment_analysis_1.csv\")\n"
   ]
  },
  {
   "cell_type": "code",
   "execution_count": 17,
   "id": "06190583",
   "metadata": {},
   "outputs": [],
   "source": [
    "# Clean the text \n",
    "def clean_text(text) : \n",
    "    return re.sub(r'[^a-zA-Z\\s]','',text.lower()).strip()\n",
    "\n",
    "df[\"cleaned_text\"] = df[\"text\"].apply(clean_text)"
   ]
  },
  {
   "cell_type": "code",
   "execution_count": 18,
   "id": "c4ef3fc0",
   "metadata": {},
   "outputs": [],
   "source": [
    "# Tokenization and Padding \n",
    "tokenizer = Tokenizer(num_words=10000 , oov_token=\"<OOV>\")\n",
    "tokenizer.fit_on_texts(df[\"cleaned_text\"])\n",
    "\n",
    "X = pad_sequences(tokenizer.texts_to_sequences(df['cleaned_text']) , maxlen=200)"
   ]
  },
  {
   "cell_type": "code",
   "execution_count": 19,
   "id": "3513665b",
   "metadata": {},
   "outputs": [],
   "source": [
    "# Encode the labels \n",
    "le = LabelEncoder()\n",
    "df[\"encoded_label\"] = le.fit_transform(df['label'])\n",
    "\n",
    "# one hot encode\n",
    "y = to_categorical(df[\"encoded_label\"] , num_classes=3)"
   ]
  },
  {
   "cell_type": "code",
   "execution_count": 20,
   "id": "597ec8f6",
   "metadata": {},
   "outputs": [],
   "source": [
    "#split the data \n",
    "X_train , X_test , y_train , y_test = train_test_split(X , y , test_size=0.2 , random_state=42)"
   ]
  },
  {
   "cell_type": "code",
   "execution_count": 21,
   "id": "bf463955",
   "metadata": {},
   "outputs": [
    {
     "name": "stderr",
     "output_type": "stream",
     "text": [
      "c:\\Users\\adity\\anaconda3\\Lib\\site-packages\\keras\\src\\layers\\core\\embedding.py:90: UserWarning: Argument `input_length` is deprecated. Just remove it.\n",
      "  warnings.warn(\n"
     ]
    }
   ],
   "source": [
    "#Build the model \n",
    "model = Sequential([\n",
    "    Embedding(10000 , 128 , input_length=200),\n",
    "    SimpleRNN(64),\n",
    "    Dense(64 , activation='relu'),\n",
    "    Dense(3 , activation='relu')\n",
    "])"
   ]
  },
  {
   "cell_type": "code",
   "execution_count": 22,
   "id": "2f317a9b",
   "metadata": {},
   "outputs": [],
   "source": [
    "# compile the model \n",
    "model.compile(optimizer='adam' , \n",
    "              loss='categorical_crossentropy' , \n",
    "              metrics=['accuracy'])\n"
   ]
  },
  {
   "cell_type": "code",
   "execution_count": 23,
   "id": "b3016831",
   "metadata": {},
   "outputs": [
    {
     "name": "stdout",
     "output_type": "stream",
     "text": [
      "Epoch 1/5\n",
      "\u001b[1m8/8\u001b[0m \u001b[32m━━━━━━━━━━━━━━━━━━━━\u001b[0m\u001b[37m\u001b[0m \u001b[1m5s\u001b[0m 102ms/step - accuracy: 0.3400 - loss: 2.6504 - val_accuracy: 0.2500 - val_loss: 1.1113\n",
      "Epoch 2/5\n",
      "\u001b[1m8/8\u001b[0m \u001b[32m━━━━━━━━━━━━━━━━━━━━\u001b[0m\u001b[37m\u001b[0m \u001b[1m0s\u001b[0m 37ms/step - accuracy: 0.6369 - loss: 1.0169 - val_accuracy: 0.3000 - val_loss: 1.1236\n",
      "Epoch 3/5\n",
      "\u001b[1m8/8\u001b[0m \u001b[32m━━━━━━━━━━━━━━━━━━━━\u001b[0m\u001b[37m\u001b[0m \u001b[1m0s\u001b[0m 41ms/step - accuracy: 0.4551 - loss: 0.9581 - val_accuracy: 0.3000 - val_loss: 1.1679\n",
      "Epoch 4/5\n",
      "\u001b[1m8/8\u001b[0m \u001b[32m━━━━━━━━━━━━━━━━━━━━\u001b[0m\u001b[37m\u001b[0m \u001b[1m0s\u001b[0m 41ms/step - accuracy: 0.6428 - loss: 1.0664 - val_accuracy: 0.3500 - val_loss: 1.2921\n",
      "Epoch 5/5\n",
      "\u001b[1m8/8\u001b[0m \u001b[32m━━━━━━━━━━━━━━━━━━━━\u001b[0m\u001b[37m\u001b[0m \u001b[1m0s\u001b[0m 38ms/step - accuracy: 0.9723 - loss: 0.5310 - val_accuracy: 0.2500 - val_loss: 1.1680\n"
     ]
    }
   ],
   "source": [
    "# test the model \n",
    "history = model.fit(X_train , y_train , \n",
    "                    epochs=5 ,\n",
    "                    batch_size=10 , \n",
    "                    validation_data=(X_test , y_test))"
   ]
  },
  {
   "cell_type": "code",
   "execution_count": 24,
   "id": "50d55675",
   "metadata": {},
   "outputs": [
    {
     "data": {
      "image/png": "[encoded data removed]",
      "text/plain": [
       "<Figure size 640x480 with 1 Axes>"
      ]
     },
     "metadata": {},
     "output_type": "display_data"
    }
   ],
   "source": [
    "# Plot Accuracy\n",
    "plt.plot(history.history['accuracy'], label='Train')\n",
    "plt.plot(history.history['val_accuracy'], label='Validation')\n",
    "plt.legend()\n",
    "plt.show()\n"
   ]
  },
  {
   "cell_type": "code",
   "execution_count": 30,
   "id": "aa0dc1e2",
   "metadata": {},
   "outputs": [
    {
     "name": "stdout",
     "output_type": "stream",
     "text": [
      "\u001b[1m1/1\u001b[0m \u001b[32m━━━━━━━━━━━━━━━━━━━━\u001b[0m\u001b[37m\u001b[0m \u001b[1m0s\u001b[0m 31ms/step\n",
      "positive\n",
      "\u001b[1m1/1\u001b[0m \u001b[32m━━━━━━━━━━━━━━━━━━━━\u001b[0m\u001b[37m\u001b[0m \u001b[1m0s\u001b[0m 27ms/step\n",
      "neutral\n",
      "\u001b[1m1/1\u001b[0m \u001b[32m━━━━━━━━━━━━━━━━━━━━\u001b[0m\u001b[37m\u001b[0m \u001b[1m0s\u001b[0m 28ms/step\n",
      "neutral\n"
     ]
    }
   ],
   "source": [
    "# Sentiment Prediction (use the already fitted label_encoder)\n",
    "def predict_sentiment(text) : \n",
    "    seq = pad_sequences(tokenizer.texts_to_sequences([clean_text(text)]) , maxlen=200)\n",
    "    prediction = model.predict(seq)[0]\n",
    "    return le.inverse_transform([np.argmax(prediction)])[0]\n",
    "\n",
    "print(predict_sentiment(\"The product was amazing! I loved it.\"))\n",
    "print(predict_sentiment(\"It was okay, nothing special.\"))\n",
    "print(predict_sentiment(\"Worst Movie I have ever watched.\"))"
   ]
  },
  {
   "cell_type": "code",
   "execution_count": null,
   "id": "b8566d1d",
   "metadata": {},
   "outputs": [],
   "source": []
  }
 ],
 "metadata": {
  "kernelspec": {
   "display_name": "base",
   "language": "python",
   "name": "python3"
  },
  "language_info": {
   "codemirror_mode": {
    "name": "ipython",
    "version": 3
   },
   "file_extension": ".py",
   "mimetype": "text/x-python",
   "name": "python",
   "nbconvert_exporter": "python",
   "pygments_lexer": "ipython3",
   "version": "3.11.7"
  }
 },
 "nbformat": 4,
 "nbformat_minor": 5
}
